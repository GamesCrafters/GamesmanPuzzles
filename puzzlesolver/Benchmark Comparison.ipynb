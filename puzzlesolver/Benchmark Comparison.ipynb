{
 "cells": [
  {
   "cell_type": "code",
   "execution_count": 1,
   "metadata": {},
   "outputs": [],
   "source": [
    "from puzzlesolver._puzzlesolverc import Hanoi as Hanoic\n",
    "from puzzlesolver.puzzles.hanoi import Hanoi as Hanoipy\n",
    "\n",
    "from puzzlesolver.solvers import GeneralSolver"
   ]
  },
  {
   "cell_type": "code",
   "execution_count": 2,
   "metadata": {},
   "outputs": [],
   "source": [
    "from ctypes import PyDLL, py_object\n",
    "\n",
    "lib = PyDLL(\"./libsolver.so\")\n",
    "solve = lib.solve\n",
    "solve.argtypes = [ py_object ]\n",
    "\n",
    "getRemoteness = lib.getRemotenessPyObject\n",
    "getRemoteness.argtypes = [ py_object ]"
   ]
  },
  {
   "cell_type": "code",
   "execution_count": 3,
   "metadata": {},
   "outputs": [],
   "source": [
    "puzzlec = Hanoic.generateStartPosition(\"3_12\")\n",
    "puzzlepy = Hanoipy.generateStartPosition(\"3_12\")"
   ]
  },
  {
   "cell_type": "code",
   "execution_count": 4,
   "metadata": {},
   "outputs": [
    {
     "name": "stdout",
     "output_type": "stream",
     "text": [
      "1.63 s ± 351 ms per loop (mean ± std. dev. of 7 runs, 1 loop each)\n"
     ]
    }
   ],
   "source": [
    "%%timeit\n",
    "lib = PyDLL(\"./libsolver.so\")\n",
    "solve = lib.solve\n",
    "solve.argtypes = [ py_object ]\n",
    "\n",
    "solve(puzzlec)\n",
    "lib.clear()"
   ]
  },
  {
   "cell_type": "code",
   "execution_count": 5,
   "metadata": {},
   "outputs": [
    {
     "name": "stderr",
     "output_type": "stream",
     "text": [
      "  0% (4739 of 531441) |                  | Elapsed Time: 0:00:00 ETA:   0:00:11"
     ]
    },
    {
     "name": "stdout",
     "output_type": "stream",
     "text": [
      "Solving: Tower of Hanoi3_12\n"
     ]
    },
    {
     "name": "stderr",
     "output_type": "stream",
     "text": [
      "100% (531441 of 531441) |################| Elapsed Time: 0:00:06 Time:  0:00:06\n",
      "  1% (6728 of 531441) |                  | Elapsed Time: 0:00:00 ETA:   0:00:17"
     ]
    },
    {
     "name": "stdout",
     "output_type": "stream",
     "text": [
      "Solving: Tower of Hanoi3_12\n"
     ]
    },
    {
     "name": "stderr",
     "output_type": "stream",
     "text": [
      "100% (531441 of 531441) |################| Elapsed Time: 0:00:07 Time:  0:00:07\n",
      "  0% (2310 of 531441) |                  | Elapsed Time: 0:00:00 ETA:   0:00:22"
     ]
    },
    {
     "name": "stdout",
     "output_type": "stream",
     "text": [
      "Solving: Tower of Hanoi3_12\n"
     ]
    },
    {
     "name": "stderr",
     "output_type": "stream",
     "text": [
      "100% (531441 of 531441) |################| Elapsed Time: 0:00:08 Time:  0:00:08\n",
      "  0% (2859 of 531441) |                  | Elapsed Time: 0:00:00 ETA:   0:00:18"
     ]
    },
    {
     "name": "stdout",
     "output_type": "stream",
     "text": [
      "Solving: Tower of Hanoi3_12\n"
     ]
    },
    {
     "name": "stderr",
     "output_type": "stream",
     "text": [
      "100% (531441 of 531441) |################| Elapsed Time: 0:00:06 Time:  0:00:06\n",
      "  1% (6728 of 531441) |                  | Elapsed Time: 0:00:00 ETA:   0:00:11"
     ]
    },
    {
     "name": "stdout",
     "output_type": "stream",
     "text": [
      "Solving: Tower of Hanoi3_12\n"
     ]
    },
    {
     "name": "stderr",
     "output_type": "stream",
     "text": [
      "100% (531441 of 531441) |################| Elapsed Time: 0:00:08 Time:  0:00:08\n",
      "  0% (3239 of 531441) |                  | Elapsed Time: 0:00:00 ETA:   0:00:17"
     ]
    },
    {
     "name": "stdout",
     "output_type": "stream",
     "text": [
      "Solving: Tower of Hanoi3_12\n"
     ]
    },
    {
     "name": "stderr",
     "output_type": "stream",
     "text": [
      "100% (531441 of 531441) |################| Elapsed Time: 0:00:08 Time:  0:00:08\n",
      "  0% (3017 of 531441) |                  | Elapsed Time: 0:00:00 ETA:   0:00:17"
     ]
    },
    {
     "name": "stdout",
     "output_type": "stream",
     "text": [
      "Solving: Tower of Hanoi3_12\n"
     ]
    },
    {
     "name": "stderr",
     "output_type": "stream",
     "text": [
      "100% (531441 of 531441) |################| Elapsed Time: 0:00:09 Time:  0:00:09\n",
      "  0% (3360 of 531441) |                  | Elapsed Time: 0:00:00 ETA:   0:00:16"
     ]
    },
    {
     "name": "stdout",
     "output_type": "stream",
     "text": [
      "Solving: Tower of Hanoi3_12\n"
     ]
    },
    {
     "name": "stderr",
     "output_type": "stream",
     "text": [
      "100% (531441 of 531441) |################| Elapsed Time: 0:00:05 Time:  0:00:05\n"
     ]
    },
    {
     "name": "stdout",
     "output_type": "stream",
     "text": [
      "7.84 s ± 1.05 s per loop (mean ± std. dev. of 7 runs, 1 loop each)\n"
     ]
    }
   ],
   "source": [
    "%%timeit\n",
    "GeneralSolver(puzzlec).solve(verbose=True)"
   ]
  },
  {
   "cell_type": "code",
   "execution_count": 6,
   "metadata": {},
   "outputs": [
    {
     "name": "stderr",
     "output_type": "stream",
     "text": [
      "  0% (854 of 531441) |                   | Elapsed Time: 0:00:00 ETA:   0:01:02"
     ]
    },
    {
     "name": "stdout",
     "output_type": "stream",
     "text": [
      "Solving: Tower of Hanoi3_12\n"
     ]
    },
    {
     "name": "stderr",
     "output_type": "stream",
     "text": [
      "100% (531441 of 531441) |################| Elapsed Time: 0:00:48 Time:  0:00:48\n",
      "  0% (1567 of 531441) |                  | Elapsed Time: 0:00:00 ETA:   0:01:07"
     ]
    },
    {
     "name": "stdout",
     "output_type": "stream",
     "text": [
      "Solving: Tower of Hanoi3_12\n"
     ]
    },
    {
     "name": "stderr",
     "output_type": "stream",
     "text": [
      "100% (531441 of 531441) |################| Elapsed Time: 0:00:53 Time:  0:00:53\n",
      "  0% (701 of 531441) |                   | Elapsed Time: 0:00:00 ETA:   0:01:15"
     ]
    },
    {
     "name": "stdout",
     "output_type": "stream",
     "text": [
      "Solving: Tower of Hanoi3_12\n"
     ]
    },
    {
     "name": "stderr",
     "output_type": "stream",
     "text": [
      "100% (531441 of 531441) |################| Elapsed Time: 0:00:55 Time:  0:00:55\n",
      "  0% (872 of 531441) |                   | Elapsed Time: 0:00:00 ETA:   0:01:00"
     ]
    },
    {
     "name": "stdout",
     "output_type": "stream",
     "text": [
      "Solving: Tower of Hanoi3_12\n"
     ]
    },
    {
     "name": "stderr",
     "output_type": "stream",
     "text": [
      "100% (531441 of 531441) |################| Elapsed Time: 0:00:43 Time:  0:00:43\n",
      "  0% (1731 of 531441) |                  | Elapsed Time: 0:00:00 ETA:   0:01:01"
     ]
    },
    {
     "name": "stdout",
     "output_type": "stream",
     "text": [
      "Solving: Tower of Hanoi3_12\n"
     ]
    },
    {
     "name": "stderr",
     "output_type": "stream",
     "text": [
      "100% (531441 of 531441) |################| Elapsed Time: 0:00:43 Time:  0:00:43\n",
      "  0% (2071 of 531441) |                  | Elapsed Time: 0:00:00 ETA:   0:00:51"
     ]
    },
    {
     "name": "stdout",
     "output_type": "stream",
     "text": [
      "Solving: Tower of Hanoi3_12\n"
     ]
    },
    {
     "name": "stderr",
     "output_type": "stream",
     "text": [
      "100% (531441 of 531441) |################| Elapsed Time: 0:00:43 Time:  0:00:43\n",
      "  0% (1859 of 531441) |                  | Elapsed Time: 0:00:00 ETA:   0:00:57"
     ]
    },
    {
     "name": "stdout",
     "output_type": "stream",
     "text": [
      "Solving: Tower of Hanoi3_12\n"
     ]
    },
    {
     "name": "stderr",
     "output_type": "stream",
     "text": [
      "100% (531441 of 531441) |################| Elapsed Time: 0:00:48 Time:  0:00:48\n",
      "  0% (2094 of 531441) |                  | Elapsed Time: 0:00:00 ETA:   0:00:50"
     ]
    },
    {
     "name": "stdout",
     "output_type": "stream",
     "text": [
      "Solving: Tower of Hanoi3_12\n"
     ]
    },
    {
     "name": "stderr",
     "output_type": "stream",
     "text": [
      "100% (531441 of 531441) |################| Elapsed Time: 0:00:37 Time:  0:00:37\n"
     ]
    },
    {
     "name": "stdout",
     "output_type": "stream",
     "text": [
      "46.6 s ± 5.85 s per loop (mean ± std. dev. of 7 runs, 1 loop each)\n"
     ]
    }
   ],
   "source": [
    "%%timeit\n",
    "GeneralSolver(puzzlepy).solve(verbose=True)"
   ]
  },
  {
   "cell_type": "code",
   "execution_count": 6,
   "metadata": {},
   "outputs": [
    {
     "data": {
      "text/plain": [
       "531441"
      ]
     },
     "execution_count": 6,
     "metadata": {},
     "output_type": "execute_result"
    }
   ],
   "source": [
    "puzzlec.numPositions"
   ]
  }
 ],
 "metadata": {
  "kernelspec": {
   "display_name": "Puzzles",
   "language": "python",
   "name": "puzzles"
  },
  "language_info": {
   "codemirror_mode": {
    "name": "ipython",
    "version": 3
   },
   "file_extension": ".py",
   "mimetype": "text/x-python",
   "name": "python",
   "nbconvert_exporter": "python",
   "pygments_lexer": "ipython3",
   "version": "3.6.12"
  }
 },
 "nbformat": 4,
 "nbformat_minor": 4
}
